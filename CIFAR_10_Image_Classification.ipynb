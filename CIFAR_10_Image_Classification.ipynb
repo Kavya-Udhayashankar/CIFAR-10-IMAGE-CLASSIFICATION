{
  "nbformat": 4,
  "nbformat_minor": 0,
  "metadata": {
    "colab": {
      "provenance": []
    },
    "kernelspec": {
      "name": "python3",
      "display_name": "Python 3"
    },
    "language_info": {
      "name": "python"
    }
  },
  "cells": [
    {
      "cell_type": "code",
      "execution_count": null,
      "metadata": {
        "id": "pF5HsdV81t5F"
      },
      "outputs": [],
      "source": [
        "import tensorflow as tf\n",
        "from tensorflow import keras\n",
        "from tensorflow.keras import datasets, layers, models"
      ]
    },
    {
      "cell_type": "code",
      "source": [
        "(x_train, y_train), (x_test,y_test) = datasets.cifar10.load_data()"
      ],
      "metadata": {
        "id": "orYH3Obu1ycI"
      },
      "execution_count": null,
      "outputs": []
    },
    {
      "cell_type": "code",
      "source": [
        "y_train = y_train.reshape(-1,)\n",
        "y_test = y_test.reshape(-1,)"
      ],
      "metadata": {
        "id": "COLhCfe6144k"
      },
      "execution_count": null,
      "outputs": []
    },
    {
      "cell_type": "code",
      "source": [
        "classes =[\"airplane\",\"automobile\",\"bird\",\"cat\",\"deer\",\"dog\",\"frog\",\"horse\",\"ship\",\"truck\"]\n"
      ],
      "metadata": {
        "id": "Y5v16TFf15ga"
      },
      "execution_count": null,
      "outputs": []
    },
    {
      "cell_type": "code",
      "source": [
        "x_train = x_train/255.0\n",
        "x_test = x_test/255.0"
      ],
      "metadata": {
        "id": "v-HHdC691_Nr"
      },
      "execution_count": null,
      "outputs": []
    },
    {
      "cell_type": "code",
      "source": [
        "model = tf.keras.models.Sequential([\n",
        "    tf.keras.layers.Conv2D(32, (3, 3), activation='relu', input_shape=(32, 32, 3)),\n",
        "    tf.keras.layers.MaxPooling2D((2, 2)),\n",
        "    tf.keras.layers.Conv2D(64, (3, 3), activation='relu'),\n",
        "    tf.keras.layers.MaxPooling2D((2, 2)),\n",
        "    tf.keras.layers.Flatten(),\n",
        "    tf.keras.layers.Dropout(0.2),\n",
        "    tf.keras.layers.Dense(128, activation='relu'),\n",
        "\n",
        "    tf.keras.layers.Dense(10, activation='softmax')\n",
        "])"
      ],
      "metadata": {
        "id": "CjKgYubf2BCe"
      },
      "execution_count": null,
      "outputs": []
    },
    {
      "cell_type": "code",
      "source": [
        "model.compile(optimizer='adam', loss='sparse_categorical_crossentropy', metrics=['accuracy'])\n"
      ],
      "metadata": {
        "id": "70S10xnf2Eo6"
      },
      "execution_count": null,
      "outputs": []
    },
    {
      "cell_type": "code",
      "source": [
        "model.summary()\n"
      ],
      "metadata": {
        "colab": {
          "base_uri": "https://localhost:8080/"
        },
        "id": "qfhB8BFm2HJ2",
        "outputId": "010b84e4-9509-4247-f2b8-301955410b84"
      },
      "execution_count": null,
      "outputs": [
        {
          "output_type": "stream",
          "name": "stdout",
          "text": [
            "Model: \"sequential_8\"\n",
            "_________________________________________________________________\n",
            " Layer (type)                Output Shape              Param #   \n",
            "=================================================================\n",
            " conv2d_18 (Conv2D)          (None, 30, 30, 32)        896       \n",
            "                                                                 \n",
            " max_pooling2d_16 (MaxPooli  (None, 15, 15, 32)        0         \n",
            " ng2D)                                                           \n",
            "                                                                 \n",
            " conv2d_19 (Conv2D)          (None, 13, 13, 64)        18496     \n",
            "                                                                 \n",
            " max_pooling2d_17 (MaxPooli  (None, 6, 6, 64)          0         \n",
            " ng2D)                                                           \n",
            "                                                                 \n",
            " flatten_8 (Flatten)         (None, 2304)              0         \n",
            "                                                                 \n",
            " dropout_7 (Dropout)         (None, 2304)              0         \n",
            "                                                                 \n",
            " dense_16 (Dense)            (None, 128)               295040    \n",
            "                                                                 \n",
            " dense_17 (Dense)            (None, 10)                1290      \n",
            "                                                                 \n",
            "=================================================================\n",
            "Total params: 315722 (1.20 MB)\n",
            "Trainable params: 315722 (1.20 MB)\n",
            "Non-trainable params: 0 (0.00 Byte)\n",
            "_________________________________________________________________\n"
          ]
        }
      ]
    },
    {
      "cell_type": "code",
      "source": [
        "model.fit(x_train, y_train, epochs=15, batch_size=100)"
      ],
      "metadata": {
        "colab": {
          "base_uri": "https://localhost:8080/"
        },
        "id": "z7Sz2YgS2O2C",
        "outputId": "42f61b28-253d-46df-8c08-54bb7229fb0e"
      },
      "execution_count": null,
      "outputs": [
        {
          "output_type": "stream",
          "name": "stdout",
          "text": [
            "Epoch 1/15\n",
            "500/500 [==============================] - 59s 116ms/step - loss: 1.5323 - accuracy: 0.4505\n",
            "Epoch 2/15\n",
            "500/500 [==============================] - 59s 117ms/step - loss: 1.1935 - accuracy: 0.5791\n",
            "Epoch 3/15\n",
            "500/500 [==============================] - 64s 128ms/step - loss: 1.0771 - accuracy: 0.6248\n",
            "Epoch 4/15\n",
            "500/500 [==============================] - 58s 115ms/step - loss: 0.9970 - accuracy: 0.6515\n",
            "Epoch 5/15\n",
            "500/500 [==============================] - 60s 120ms/step - loss: 0.9332 - accuracy: 0.6745\n",
            "Epoch 6/15\n",
            "500/500 [==============================] - 57s 113ms/step - loss: 0.8844 - accuracy: 0.6929\n",
            "Epoch 7/15\n",
            "500/500 [==============================] - 58s 117ms/step - loss: 0.8338 - accuracy: 0.7090\n",
            "Epoch 8/15\n",
            "500/500 [==============================] - 57s 114ms/step - loss: 0.7828 - accuracy: 0.7291\n",
            "Epoch 9/15\n",
            "500/500 [==============================] - 57s 114ms/step - loss: 0.7406 - accuracy: 0.7408\n",
            "Epoch 10/15\n",
            "500/500 [==============================] - 58s 115ms/step - loss: 0.7080 - accuracy: 0.7534\n",
            "Epoch 11/15\n",
            "500/500 [==============================] - 56s 112ms/step - loss: 0.6631 - accuracy: 0.7686\n",
            "Epoch 12/15\n",
            "500/500 [==============================] - 57s 114ms/step - loss: 0.6380 - accuracy: 0.7771\n",
            "Epoch 13/15\n",
            "500/500 [==============================] - 57s 113ms/step - loss: 0.6045 - accuracy: 0.7887\n",
            "Epoch 14/15\n",
            "500/500 [==============================] - 56s 113ms/step - loss: 0.5767 - accuracy: 0.7966\n",
            "Epoch 15/15\n",
            "500/500 [==============================] - 57s 115ms/step - loss: 0.5465 - accuracy: 0.8081\n"
          ]
        },
        {
          "output_type": "execute_result",
          "data": {
            "text/plain": [
              "<keras.src.callbacks.History at 0x7ef1a1aa53c0>"
            ]
          },
          "metadata": {},
          "execution_count": 56
        }
      ]
    },
    {
      "cell_type": "code",
      "source": [
        "model.evaluate(x_test,y_test)"
      ],
      "metadata": {
        "colab": {
          "base_uri": "https://localhost:8080/"
        },
        "id": "smDiq2yZ2R41",
        "outputId": "9c47481f-8531-40f9-bf56-a1f80a0cdf8c"
      },
      "execution_count": null,
      "outputs": [
        {
          "output_type": "stream",
          "name": "stdout",
          "text": [
            "313/313 [==============================] - 8s 23ms/step - loss: 0.8021 - accuracy: 0.7282\n"
          ]
        },
        {
          "output_type": "execute_result",
          "data": {
            "text/plain": [
              "[0.802128255367279, 0.7282000184059143]"
            ]
          },
          "metadata": {},
          "execution_count": 58
        }
      ]
    },
    {
      "cell_type": "code",
      "source": [
        "import numpy as np\n",
        "y_pred = model.predict(x_test)\n",
        "y_classes = [np.argmax(element) for element in y_pred]\n",
        "y_classes[:5]"
      ],
      "metadata": {
        "colab": {
          "base_uri": "https://localhost:8080/"
        },
        "id": "QAja4sFwc2ia",
        "outputId": "64891fff-a88e-4456-ac3c-a61f19ab1cdf"
      },
      "execution_count": null,
      "outputs": [
        {
          "output_type": "stream",
          "name": "stdout",
          "text": [
            "313/313 [==============================] - 4s 11ms/step\n"
          ]
        },
        {
          "output_type": "execute_result",
          "data": {
            "text/plain": [
              "[3, 8, 8, 0, 4]"
            ]
          },
          "metadata": {},
          "execution_count": 61
        }
      ]
    },
    {
      "cell_type": "code",
      "source": [
        "y_test[:5]"
      ],
      "metadata": {
        "colab": {
          "base_uri": "https://localhost:8080/"
        },
        "id": "4xzGuqn0c-Y-",
        "outputId": "88b57ee8-c0b4-4fde-8fc9-d50eba0685ef"
      },
      "execution_count": null,
      "outputs": [
        {
          "output_type": "execute_result",
          "data": {
            "text/plain": [
              "array([3, 8, 8, 0, 6], dtype=uint8)"
            ]
          },
          "metadata": {},
          "execution_count": 62
        }
      ]
    },
    {
      "cell_type": "code",
      "source": [],
      "metadata": {
        "id": "B7Ab1e7LdLsa"
      },
      "execution_count": null,
      "outputs": []
    }
  ]
}